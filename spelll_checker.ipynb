{
  "nbformat": 4,
  "nbformat_minor": 0,
  "metadata": {
    "colab": {
      "provenance": [],
      "authorship_tag": "ABX9TyOo7E3KjBc1TSfRmx/6Bq/F",
      "include_colab_link": true
    },
    "kernelspec": {
      "name": "python3",
      "display_name": "Python 3"
    },
    "language_info": {
      "name": "python"
    }
  },
  "cells": [
    {
      "cell_type": "markdown",
      "metadata": {
        "id": "view-in-github",
        "colab_type": "text"
      },
      "source": [
        "<a href=\"https://colab.research.google.com/github/SaaRThAkKkk/Spell_Checker/blob/main/spelll_checker.ipynb\" target=\"_parent\"><img src=\"https://colab.research.google.com/assets/colab-badge.svg\" alt=\"Open In Colab\"/></a>"
      ]
    },
    {
      "cell_type": "markdown",
      "source": [
        "step - 01 Installing the pyspellchecker libraray and importing it"
      ],
      "metadata": {
        "id": "6ObVkdGpQuXx"
      }
    },
    {
      "cell_type": "code",
      "execution_count": 1,
      "metadata": {
        "colab": {
          "base_uri": "https://localhost:8080/"
        },
        "id": "sfSKJqJpP7_b",
        "outputId": "cd4d4bdd-84d7-4767-e1bf-5a8634e710dc"
      },
      "outputs": [
        {
          "output_type": "stream",
          "name": "stdout",
          "text": [
            "Collecting pyspellchecker\n",
            "  Downloading pyspellchecker-0.8.3-py3-none-any.whl.metadata (9.5 kB)\n",
            "Downloading pyspellchecker-0.8.3-py3-none-any.whl (7.2 MB)\n",
            "\u001b[2K   \u001b[90m━━━━━━━━━━━━━━━━━━━━━━━━━━━━━━━━━━━━━━━━\u001b[0m \u001b[32m7.2/7.2 MB\u001b[0m \u001b[31m56.2 MB/s\u001b[0m eta \u001b[36m0:00:00\u001b[0m\n",
            "\u001b[?25hInstalling collected packages: pyspellchecker\n",
            "Successfully installed pyspellchecker-0.8.3\n"
          ]
        }
      ],
      "source": [
        "!pip install pyspellchecker\n",
        "from spellchecker import SpellChecker\n"
      ]
    },
    {
      "cell_type": "markdown",
      "source": [
        "step - 02 creating the app class to maintain all functionalities in one place\n"
      ],
      "metadata": {
        "id": "qPRPaSsQQ2Xd"
      }
    },
    {
      "cell_type": "code",
      "source": [
        "class SpellCheckerApp:\n",
        "  def __init__(self):\n",
        "    self.spell = SpellChecker()\n",
        "\n",
        "#step 03 - defining the function to correct the text\n",
        "\n",
        "  def correct_text(self,text):\n",
        "    words=text.split()\n",
        "    corrected_words=[]\n",
        "    #individually checking each word after splitiing it with the nearest corrected one with the help of correction fucntion from library\n",
        "    for word in words:\n",
        "      corrected_word = self.spell.correction(word)\n",
        "      #if the corrected and the original mismatch then print correcting it\n",
        "      if(corrected_word != word.lower()):\n",
        "        print(f'Correcting \"{word}\" to \"{corrected_word}\"')\n",
        "        #after correcting it add update the vector as well\n",
        "      corrected_words.append(corrected_word)\n",
        "\n",
        "# step 04 returning the corrected text by joining all the corrected words\n",
        "    return ' '.join(corrected_words)\n",
        "#step 05 - declaring another function to take the input and correct the text\n",
        "  def run(self):\n",
        "    print(\"\\n---Spell Checker---\")\n",
        "\n",
        "    while(True):\n",
        "      text = input('Enter text to check (or type \"exit\" to quit ):')\n",
        "\n",
        "      if(text.lower() == 'exit'):\n",
        "        print('closing the program')\n",
        "        break\n",
        "      corrected_text = self.correct_text(text)\n",
        "      print(f'Corrected text : {corrected_text}')\n",
        "# step 06 - Running the main program\n",
        "app = SpellCheckerApp()\n",
        "\n",
        "# ✅ Sample input for testing\n",
        "sample_text = \"Thisss iss an inbuiltt python projefct\"\n",
        "print(f\"Original: {sample_text}\")\n",
        "\n",
        "corrected = app.correct_text(sample_text)\n",
        "print(f\"Corrected: {corrected}\")\n"
      ],
      "metadata": {
        "colab": {
          "base_uri": "https://localhost:8080/"
        },
        "id": "KQt3151fQopc",
        "outputId": "14becc3b-e404-4b90-a0aa-1db8c162c7ea"
      },
      "execution_count": 8,
      "outputs": [
        {
          "output_type": "stream",
          "name": "stdout",
          "text": [
            "Original: Thisss iss an inbuiltt python projefct\n",
            "Correcting \"Thisss\" to \"this\"\n",
            "Correcting \"iss\" to \"is\"\n",
            "Correcting \"inbuiltt\" to \"inbuilt\"\n",
            "Correcting \"projefct\" to \"project\"\n",
            "Corrected: this is an inbuilt python project\n"
          ]
        }
      ]
    },
    {
      "cell_type": "code",
      "source": [],
      "metadata": {
        "id": "gk-jF8WaXHIV"
      },
      "execution_count": null,
      "outputs": []
    }
  ]
}